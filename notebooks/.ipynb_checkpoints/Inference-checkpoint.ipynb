{
 "cells": [
  {
   "cell_type": "code",
   "execution_count": 1,
   "metadata": {},
   "outputs": [],
   "source": [
    "import sys\n",
    "sys.path.insert(0, '..')"
   ]
  },
  {
   "cell_type": "code",
   "execution_count": 2,
   "metadata": {},
   "outputs": [],
   "source": [
    "import pandas as pd\n",
    "from torch.utils.data import DataLoader,Dataset, Subset\n",
    "import numpy as np\n",
    "from numpy import ndarray\n",
    "import tft_model\n",
    "from tft_model import TFT\n",
    "from data_formatters import ts_dataset\n",
    "from data_formatters.ts_dataset import TSDataset\n",
    "import data_formatters.base\n",
    "import expt_settings.configs\n",
    "import importlib\n",
    "from data_formatters import utils\n",
    "import torch.optim as optim\n",
    "import torch\n",
    "from torch import Tensor\n",
    "from pandas import DataFrame\n",
    "from typing import List, Dict\n",
    "import os\n",
    "from datetime import datetime"
   ]
  },
  {
   "cell_type": "markdown",
   "metadata": {},
   "source": [
    "EXTRACT TESTSET"
   ]
  },
  {
   "cell_type": "code",
   "execution_count": 3,
   "metadata": {},
   "outputs": [
    {
     "name": "stdout",
     "output_type": "stream",
     "text": [
      "*** Training from defined parameters for electricity ***\n",
      "Loading & splitting data...\n"
     ]
    },
    {
     "name": "stderr",
     "output_type": "stream",
     "text": [
      "C:\\Users\\Lorenzo\\PycharmProjects\\Temporal_Fusion_Transform\\venv\\lib\\site-packages\\numpy\\lib\\arraysetops.py:583: FutureWarning: elementwise comparison failed; returning scalar instead, but in the future will perform elementwise comparison\n",
      "  mask |= (ar1 == a)\n"
     ]
    },
    {
     "name": "stdout",
     "output_type": "stream",
     "text": [
      "Formatting train-valid-test splits.\n",
      "Setting scalers with training data...\n"
     ]
    }
   ],
   "source": [
    "ExperimentConfig = expt_settings.configs.ExperimentConfig\n",
    "\n",
    "config = ExperimentConfig('electricity', '../outputs')\n",
    "data_formatter = config.make_data_formatter()\n",
    "\n",
    "\n",
    "print(\"*** Training from defined parameters for {} ***\".format('electricity'))\n",
    "data_csv_path = '../data/hourly_electricity.csv'\n",
    "print(\"Loading & splitting data...\")\n",
    "raw_data: DataFrame = pd.read_csv(data_csv_path, index_col=0)\n",
    "train, valid, test = data_formatter.split_data(raw_data)\n",
    "test['date'] = test['date'].astype('datetime64[s]')"
   ]
  },
  {
   "cell_type": "code",
   "execution_count": 4,
   "metadata": {},
   "outputs": [
    {
     "data": {
      "text/html": [
       "<div>\n",
       "<style scoped>\n",
       "    .dataframe tbody tr th:only-of-type {\n",
       "        vertical-align: middle;\n",
       "    }\n",
       "\n",
       "    .dataframe tbody tr th {\n",
       "        vertical-align: top;\n",
       "    }\n",
       "\n",
       "    .dataframe thead th {\n",
       "        text-align: right;\n",
       "    }\n",
       "</style>\n",
       "<table border=\"1\" class=\"dataframe\">\n",
       "  <thead>\n",
       "    <tr style=\"text-align: right;\">\n",
       "      <th></th>\n",
       "      <th>power_usage</th>\n",
       "      <th>t</th>\n",
       "      <th>days_from_start</th>\n",
       "      <th>categorical_id</th>\n",
       "      <th>date</th>\n",
       "      <th>id</th>\n",
       "      <th>hour</th>\n",
       "      <th>day</th>\n",
       "      <th>day_of_week</th>\n",
       "      <th>month</th>\n",
       "      <th>hours_from_start</th>\n",
       "      <th>categorical_day_of_week</th>\n",
       "      <th>categorical_hour</th>\n",
       "    </tr>\n",
       "  </thead>\n",
       "  <tbody>\n",
       "    <tr>\n",
       "      <th>23208</th>\n",
       "      <td>3.313606</td>\n",
       "      <td>31968.0</td>\n",
       "      <td>1332</td>\n",
       "      <td>0</td>\n",
       "      <td>2014-08-25 00:00:00</td>\n",
       "      <td>MT_001</td>\n",
       "      <td>-1.661325</td>\n",
       "      <td>25</td>\n",
       "      <td>-1.503741</td>\n",
       "      <td>8</td>\n",
       "      <td>2.001283</td>\n",
       "      <td>0</td>\n",
       "      <td>0</td>\n",
       "    </tr>\n",
       "    <tr>\n",
       "      <th>23209</th>\n",
       "      <td>3.160683</td>\n",
       "      <td>31969.0</td>\n",
       "      <td>1332</td>\n",
       "      <td>0</td>\n",
       "      <td>2014-08-25 01:00:00</td>\n",
       "      <td>MT_001</td>\n",
       "      <td>-1.516862</td>\n",
       "      <td>25</td>\n",
       "      <td>-1.503741</td>\n",
       "      <td>8</td>\n",
       "      <td>2.001942</td>\n",
       "      <td>0</td>\n",
       "      <td>1</td>\n",
       "    </tr>\n",
       "    <tr>\n",
       "      <th>23210</th>\n",
       "      <td>3.160683</td>\n",
       "      <td>31970.0</td>\n",
       "      <td>1332</td>\n",
       "      <td>0</td>\n",
       "      <td>2014-08-25 02:00:00</td>\n",
       "      <td>MT_001</td>\n",
       "      <td>-1.372399</td>\n",
       "      <td>25</td>\n",
       "      <td>-1.503741</td>\n",
       "      <td>8</td>\n",
       "      <td>2.002601</td>\n",
       "      <td>0</td>\n",
       "      <td>2</td>\n",
       "    </tr>\n",
       "    <tr>\n",
       "      <th>23211</th>\n",
       "      <td>3.313606</td>\n",
       "      <td>31971.0</td>\n",
       "      <td>1332</td>\n",
       "      <td>0</td>\n",
       "      <td>2014-08-25 03:00:00</td>\n",
       "      <td>MT_001</td>\n",
       "      <td>-1.227936</td>\n",
       "      <td>25</td>\n",
       "      <td>-1.503741</td>\n",
       "      <td>8</td>\n",
       "      <td>2.003260</td>\n",
       "      <td>0</td>\n",
       "      <td>3</td>\n",
       "    </tr>\n",
       "    <tr>\n",
       "      <th>23212</th>\n",
       "      <td>3.237144</td>\n",
       "      <td>31972.0</td>\n",
       "      <td>1332</td>\n",
       "      <td>0</td>\n",
       "      <td>2014-08-25 04:00:00</td>\n",
       "      <td>MT_001</td>\n",
       "      <td>-1.083473</td>\n",
       "      <td>25</td>\n",
       "      <td>-1.503741</td>\n",
       "      <td>8</td>\n",
       "      <td>2.003920</td>\n",
       "      <td>0</td>\n",
       "      <td>4</td>\n",
       "    </tr>\n",
       "  </tbody>\n",
       "</table>\n",
       "</div>"
      ],
      "text/plain": [
       "       power_usage        t  days_from_start  categorical_id  \\\n",
       "23208     3.313606  31968.0             1332               0   \n",
       "23209     3.160683  31969.0             1332               0   \n",
       "23210     3.160683  31970.0             1332               0   \n",
       "23211     3.313606  31971.0             1332               0   \n",
       "23212     3.237144  31972.0             1332               0   \n",
       "\n",
       "                     date      id      hour  day  day_of_week  month  \\\n",
       "23208 2014-08-25 00:00:00  MT_001 -1.661325   25    -1.503741      8   \n",
       "23209 2014-08-25 01:00:00  MT_001 -1.516862   25    -1.503741      8   \n",
       "23210 2014-08-25 02:00:00  MT_001 -1.372399   25    -1.503741      8   \n",
       "23211 2014-08-25 03:00:00  MT_001 -1.227936   25    -1.503741      8   \n",
       "23212 2014-08-25 04:00:00  MT_001 -1.083473   25    -1.503741      8   \n",
       "\n",
       "       hours_from_start  categorical_day_of_week  categorical_hour  \n",
       "23208          2.001283                        0                 0  \n",
       "23209          2.001942                        0                 1  \n",
       "23210          2.002601                        0                 2  \n",
       "23211          2.003260                        0                 3  \n",
       "23212          2.003920                        0                 4  "
      ]
     },
     "execution_count": 4,
     "metadata": {},
     "output_type": "execute_result"
    }
   ],
   "source": [
    "test.head()"
   ]
  },
  {
   "cell_type": "code",
   "execution_count": 5,
   "metadata": {},
   "outputs": [
    {
     "data": {
      "text/plain": [
       "power_usage                       float64\n",
       "t                                 float64\n",
       "days_from_start                     int64\n",
       "categorical_id                      int32\n",
       "date                       datetime64[ns]\n",
       "id                                 object\n",
       "hour                              float64\n",
       "day                                 int64\n",
       "day_of_week                       float64\n",
       "month                               int64\n",
       "hours_from_start                  float64\n",
       "categorical_day_of_week             int64\n",
       "categorical_hour                    int64\n",
       "dtype: object"
      ]
     },
     "execution_count": 5,
     "metadata": {},
     "output_type": "execute_result"
    }
   ],
   "source": [
    "test.dtypes"
   ]
  },
  {
   "cell_type": "code",
   "execution_count": 6,
   "metadata": {},
   "outputs": [],
   "source": [
    "# test = test.sort_values(by=['categorical_id', 'date'], ascending=True, ignore_index=True)"
   ]
  },
  {
   "cell_type": "code",
   "execution_count": 7,
   "metadata": {},
   "outputs": [
    {
     "data": {
      "text/html": [
       "<div>\n",
       "<style scoped>\n",
       "    .dataframe tbody tr th:only-of-type {\n",
       "        vertical-align: middle;\n",
       "    }\n",
       "\n",
       "    .dataframe tbody tr th {\n",
       "        vertical-align: top;\n",
       "    }\n",
       "\n",
       "    .dataframe thead th {\n",
       "        text-align: right;\n",
       "    }\n",
       "</style>\n",
       "<table border=\"1\" class=\"dataframe\">\n",
       "  <thead>\n",
       "    <tr style=\"text-align: right;\">\n",
       "      <th></th>\n",
       "      <th>power_usage</th>\n",
       "      <th>t</th>\n",
       "      <th>days_from_start</th>\n",
       "      <th>categorical_id</th>\n",
       "      <th>date</th>\n",
       "      <th>id</th>\n",
       "      <th>hour</th>\n",
       "      <th>day</th>\n",
       "      <th>day_of_week</th>\n",
       "      <th>month</th>\n",
       "      <th>hours_from_start</th>\n",
       "      <th>categorical_day_of_week</th>\n",
       "      <th>categorical_hour</th>\n",
       "    </tr>\n",
       "  </thead>\n",
       "  <tbody>\n",
       "    <tr>\n",
       "      <th>23208</th>\n",
       "      <td>3.313606</td>\n",
       "      <td>31968.0</td>\n",
       "      <td>1332</td>\n",
       "      <td>0</td>\n",
       "      <td>2014-08-25 00:00:00</td>\n",
       "      <td>MT_001</td>\n",
       "      <td>-1.661325</td>\n",
       "      <td>25</td>\n",
       "      <td>-1.503741</td>\n",
       "      <td>8</td>\n",
       "      <td>2.001283</td>\n",
       "      <td>0</td>\n",
       "      <td>0</td>\n",
       "    </tr>\n",
       "    <tr>\n",
       "      <th>23209</th>\n",
       "      <td>3.160683</td>\n",
       "      <td>31969.0</td>\n",
       "      <td>1332</td>\n",
       "      <td>0</td>\n",
       "      <td>2014-08-25 01:00:00</td>\n",
       "      <td>MT_001</td>\n",
       "      <td>-1.516862</td>\n",
       "      <td>25</td>\n",
       "      <td>-1.503741</td>\n",
       "      <td>8</td>\n",
       "      <td>2.001942</td>\n",
       "      <td>0</td>\n",
       "      <td>1</td>\n",
       "    </tr>\n",
       "    <tr>\n",
       "      <th>23210</th>\n",
       "      <td>3.160683</td>\n",
       "      <td>31970.0</td>\n",
       "      <td>1332</td>\n",
       "      <td>0</td>\n",
       "      <td>2014-08-25 02:00:00</td>\n",
       "      <td>MT_001</td>\n",
       "      <td>-1.372399</td>\n",
       "      <td>25</td>\n",
       "      <td>-1.503741</td>\n",
       "      <td>8</td>\n",
       "      <td>2.002601</td>\n",
       "      <td>0</td>\n",
       "      <td>2</td>\n",
       "    </tr>\n",
       "    <tr>\n",
       "      <th>23211</th>\n",
       "      <td>3.313606</td>\n",
       "      <td>31971.0</td>\n",
       "      <td>1332</td>\n",
       "      <td>0</td>\n",
       "      <td>2014-08-25 03:00:00</td>\n",
       "      <td>MT_001</td>\n",
       "      <td>-1.227936</td>\n",
       "      <td>25</td>\n",
       "      <td>-1.503741</td>\n",
       "      <td>8</td>\n",
       "      <td>2.003260</td>\n",
       "      <td>0</td>\n",
       "      <td>3</td>\n",
       "    </tr>\n",
       "    <tr>\n",
       "      <th>23212</th>\n",
       "      <td>3.237144</td>\n",
       "      <td>31972.0</td>\n",
       "      <td>1332</td>\n",
       "      <td>0</td>\n",
       "      <td>2014-08-25 04:00:00</td>\n",
       "      <td>MT_001</td>\n",
       "      <td>-1.083473</td>\n",
       "      <td>25</td>\n",
       "      <td>-1.503741</td>\n",
       "      <td>8</td>\n",
       "      <td>2.003920</td>\n",
       "      <td>0</td>\n",
       "      <td>4</td>\n",
       "    </tr>\n",
       "  </tbody>\n",
       "</table>\n",
       "</div>"
      ],
      "text/plain": [
       "       power_usage        t  days_from_start  categorical_id  \\\n",
       "23208     3.313606  31968.0             1332               0   \n",
       "23209     3.160683  31969.0             1332               0   \n",
       "23210     3.160683  31970.0             1332               0   \n",
       "23211     3.313606  31971.0             1332               0   \n",
       "23212     3.237144  31972.0             1332               0   \n",
       "\n",
       "                     date      id      hour  day  day_of_week  month  \\\n",
       "23208 2014-08-25 00:00:00  MT_001 -1.661325   25    -1.503741      8   \n",
       "23209 2014-08-25 01:00:00  MT_001 -1.516862   25    -1.503741      8   \n",
       "23210 2014-08-25 02:00:00  MT_001 -1.372399   25    -1.503741      8   \n",
       "23211 2014-08-25 03:00:00  MT_001 -1.227936   25    -1.503741      8   \n",
       "23212 2014-08-25 04:00:00  MT_001 -1.083473   25    -1.503741      8   \n",
       "\n",
       "       hours_from_start  categorical_day_of_week  categorical_hour  \n",
       "23208          2.001283                        0                 0  \n",
       "23209          2.001942                        0                 1  \n",
       "23210          2.002601                        0                 2  \n",
       "23211          2.003260                        0                 3  \n",
       "23212          2.003920                        0                 4  "
      ]
     },
     "execution_count": 7,
     "metadata": {},
     "output_type": "execute_result"
    }
   ],
   "source": [
    "test.head()"
   ]
  },
  {
   "cell_type": "code",
   "execution_count": 8,
   "metadata": {},
   "outputs": [
    {
     "data": {
      "text/plain": [
       "power_usage                       float64\n",
       "t                                 float64\n",
       "days_from_start                     int64\n",
       "categorical_id                      int32\n",
       "date                       datetime64[ns]\n",
       "id                                 object\n",
       "hour                              float64\n",
       "day                                 int64\n",
       "day_of_week                       float64\n",
       "month                               int64\n",
       "hours_from_start                  float64\n",
       "categorical_day_of_week             int64\n",
       "categorical_hour                    int64\n",
       "dtype: object"
      ]
     },
     "execution_count": 8,
     "metadata": {},
     "output_type": "execute_result"
    }
   ],
   "source": [
    "test.dtypes"
   ]
  },
  {
   "cell_type": "code",
   "execution_count": 9,
   "metadata": {},
   "outputs": [
    {
     "data": {
      "text/plain": [
       "((123984, 13), (1923536, 13), (274536, 13))"
      ]
     },
     "execution_count": 9,
     "metadata": {},
     "output_type": "execute_result"
    }
   ],
   "source": [
    "test.shape, train.shape, valid.shape"
   ]
  },
  {
   "cell_type": "markdown",
   "metadata": {},
   "source": [
    "SET CONFIG"
   ]
  },
  {
   "cell_type": "code",
   "execution_count": 10,
   "metadata": {},
   "outputs": [],
   "source": [
    "static_cols = ['meter']\n",
    "categorical_cols = ['hour']\n",
    "real_cols = ['power_usage','hour', 'day']\n",
    "config = {}\n",
    "config['static_variables'] = len(static_cols)\n",
    "config['time_varying_categoical_variables'] = 1\n",
    "config['time_varying_real_variables_encoder'] = 4\n",
    "config['time_varying_real_variables_decoder'] = 3\n",
    "config['num_masked_series'] = 1\n",
    "config['static_embedding_vocab_sizes'] = [369]\n",
    "config['time_varying_embedding_vocab_sizes'] = [369]\n",
    "config['embedding_dim'] = 8\n",
    "config['lstm_hidden_dimension'] = 160\n",
    "config['lstm_layers'] = 1\n",
    "config['dropout'] = 0.05\n",
    "config['device'] = torch.device('cuda:0' if torch.cuda.is_available() else 'cpu')\n",
    "config['batch_size'] = 64\n",
    "config['encode_length'] = 168\n",
    "config['attn_heads'] = 4\n",
    "config['num_quantiles'] = 3\n",
    "config['vailid_quantiles'] = [0.1,0.5,0.9]\n",
    "config['seq_length'] = 192"
   ]
  },
  {
   "cell_type": "markdown",
   "metadata": {},
   "source": [
    "LOAD TRAINED MODEL"
   ]
  },
  {
   "cell_type": "code",
   "execution_count": 11,
   "metadata": {},
   "outputs": [],
   "source": [
    "model_path = r'C:\\Users\\Lorenzo\\savedmodels_tft_pytorch_electricity'"
   ]
  },
  {
   "cell_type": "code",
   "execution_count": 12,
   "metadata": {},
   "outputs": [],
   "source": [
    "def load_model(config: Dict, model_path: str) -> TFT:\n",
    "    model: TFT = TFT(config)\n",
    "    model.load_state_dict(torch.load(os.path.join(model_path, 'TemporalFusionTransformer_electricity.pt')))\n",
    "    \n",
    "    return model"
   ]
  },
  {
   "cell_type": "code",
   "execution_count": 13,
   "metadata": {},
   "outputs": [
    {
     "name": "stderr",
     "output_type": "stream",
     "text": [
      "C:\\Users\\Lorenzo\\PycharmProjects\\Temporal_Fusion_Transform\\venv\\lib\\site-packages\\torch\\nn\\modules\\rnn.py:63: UserWarning: dropout option adds dropout after all but last recurrent layer, so non-zero dropout expects num_layers greater than 1, but got dropout=0.05 and num_layers=1\n",
      "  \"num_layers={}\".format(dropout, num_layers))\n"
     ]
    }
   ],
   "source": [
    "model = load_model(config, model_path)"
   ]
  },
  {
   "cell_type": "markdown",
   "metadata": {},
   "source": [
    "PUT TEST DATA IN DATASET"
   ]
  },
  {
   "cell_type": "code",
   "execution_count": 14,
   "metadata": {},
   "outputs": [],
   "source": [
    "id_col = 'id'\n",
    "time_col='date'\n",
    "input_cols =['power_usage', 'hour', 'day_of_week', 'hours_from_start', 'categorical_id']\n",
    "target_col = 'power_usage'\n",
    "static_cols = ['categorical_id']\n",
    "time_steps=192\n",
    "num_encoder_steps = 168\n",
    "output_size = 1\n",
    "max_samples = 10000\n",
    "input_size = 5"
   ]
  },
  {
   "cell_type": "code",
   "execution_count": 15,
   "metadata": {},
   "outputs": [
    {
     "name": "stdout",
     "output_type": "stream",
     "text": [
      "Getting valid sampling locations.\n",
      "Extracting 25000 samples...\n",
      "10000 of 25000 samples done...\n",
      "20000 of 25000 samples done...\n"
     ]
    }
   ],
   "source": [
    "elect_test: TSDataset = ts_dataset.TSDataset(id_col, static_cols, time_col, input_cols,\n",
    "                                                  target_col, time_steps, 25000,\n",
    "                                                  input_size, num_encoder_steps, len(static_cols), output_size, test)"
   ]
  },
  {
   "cell_type": "code",
   "execution_count": 16,
   "metadata": {},
   "outputs": [],
   "source": [
    "batch_size=64\n",
    "test_loader = DataLoader(\n",
    "            elect_test,\n",
    "            batch_size=batch_size,\n",
    "            num_workers=2,\n",
    "            shuffle=False\n",
    "        )"
   ]
  },
  {
   "cell_type": "code",
   "execution_count": 17,
   "metadata": {},
   "outputs": [
    {
     "name": "stdout",
     "output_type": "stream",
     "text": [
      "Inputs shape is  torch.Size([64, 192, 5])\n",
      "Outputs shape is  torch.Size([64, 24, 1])\n",
      "Identifier shape is  torch.Size([64, 192, 1])\n",
      "Time shape is  torch.Size([64, 192, 1])\n"
     ]
    }
   ],
   "source": [
    "j = 0\n",
    "with torch.no_grad():\n",
    "    for batch in test_loader:\n",
    "        inputs: Tensor = batch.get('inputs')\n",
    "        outputs: Tensor = batch.get('outputs')\n",
    "        identifier: Tensor = batch.get('identifier')\n",
    "        time: Tensor = batch.get('time')\n",
    "        print(\"Inputs shape is \", inputs.shape)\n",
    "        print(\"Outputs shape is \", outputs.shape)\n",
    "        print(\"Identifier shape is \", identifier.shape)\n",
    "        print(\"Time shape is \", time.shape)\n",
    "        break"
   ]
  },
  {
   "cell_type": "code",
   "execution_count": 23,
   "metadata": {},
   "outputs": [
    {
     "data": {
      "text/plain": [
       "(tensor([[-1.3505e-01,  2.1669e-01,  5.0430e-01,  2.1838e+00,  1.4800e+02],\n",
       "         [ 1.0566e+00,  3.6116e-01,  5.0430e-01,  2.1845e+00,  1.4800e+02],\n",
       "         [ 1.1650e+00,  5.0562e-01,  5.0430e-01,  2.1852e+00,  1.4800e+02],\n",
       "         [ 9.4831e-01,  6.5008e-01,  5.0430e-01,  2.1858e+00,  1.4800e+02],\n",
       "         [ 8.1623e-02,  7.9455e-01,  5.0430e-01,  2.1865e+00,  1.4800e+02],\n",
       "         [ 8.3998e-01,  9.3901e-01,  5.0430e-01,  2.1871e+00,  1.4800e+02],\n",
       "         [ 1.0566e+00,  1.0835e+00,  5.0430e-01,  2.1878e+00,  1.4800e+02],\n",
       "         [-2.6713e-02,  1.2279e+00,  5.0430e-01,  2.1885e+00,  1.4800e+02],\n",
       "         [ 1.1650e+00,  1.3724e+00,  5.0430e-01,  2.1891e+00,  1.4800e+02],\n",
       "         [ 1.1650e+00,  1.5169e+00,  5.0430e-01,  2.1898e+00,  1.4800e+02],\n",
       "         [ 8.1623e-02,  1.6613e+00,  5.0430e-01,  2.1904e+00,  1.4800e+02],\n",
       "         [ 1.5983e+00, -1.6613e+00,  1.0063e+00,  2.1911e+00,  1.4800e+02],\n",
       "         [ 5.1497e-01, -1.5169e+00,  1.0063e+00,  2.1918e+00,  1.4800e+02],\n",
       "         [ 4.0663e-01, -1.3724e+00,  1.0063e+00,  2.1924e+00,  1.4800e+02],\n",
       "         [ 1.9233e+00, -1.2279e+00,  1.0063e+00,  2.1931e+00,  1.4800e+02],\n",
       "         [ 6.2330e-01, -1.0835e+00,  1.0063e+00,  2.1937e+00,  1.4800e+02],\n",
       "         [ 1.8996e-01, -9.3901e-01,  1.0063e+00,  2.1944e+00,  1.4800e+02],\n",
       "         [ 1.7067e+00, -7.9455e-01,  1.0063e+00,  2.1951e+00,  1.4800e+02],\n",
       "         [ 2.9830e-01, -6.5008e-01,  1.0063e+00,  2.1957e+00,  1.4800e+02],\n",
       "         [-3.5172e-01, -5.0562e-01,  1.0063e+00,  2.1964e+00,  1.4800e+02],\n",
       "         [ 1.0566e+00, -3.6116e-01,  1.0063e+00,  2.1970e+00,  1.4800e+02],\n",
       "         [-2.6713e-02, -2.1669e-01,  1.0063e+00,  2.1977e+00,  1.4800e+02],\n",
       "         [-2.6713e-02, -7.2232e-02,  1.0063e+00,  2.1983e+00,  1.4800e+02],\n",
       "         [ 1.2733e+00,  7.2232e-02,  1.0063e+00,  2.1990e+00,  1.4800e+02]],\n",
       "        dtype=torch.float64),\n",
       " tensor([[148.],\n",
       "         [148.],\n",
       "         [148.],\n",
       "         [148.],\n",
       "         [148.],\n",
       "         [148.],\n",
       "         [148.],\n",
       "         [148.],\n",
       "         [148.],\n",
       "         [148.],\n",
       "         [148.],\n",
       "         [148.],\n",
       "         [148.],\n",
       "         [148.],\n",
       "         [148.],\n",
       "         [148.],\n",
       "         [148.],\n",
       "         [148.],\n",
       "         [148.],\n",
       "         [148.],\n",
       "         [148.],\n",
       "         [148.],\n",
       "         [148.],\n",
       "         [148.]], dtype=torch.float64),\n",
       " ['2014-09-05 13:00:00',\n",
       "  '2014-09-05 14:00:00',\n",
       "  '2014-09-05 15:00:00',\n",
       "  '2014-09-05 16:00:00',\n",
       "  '2014-09-05 17:00:00',\n",
       "  '2014-09-05 18:00:00',\n",
       "  '2014-09-05 19:00:00',\n",
       "  '2014-09-05 20:00:00',\n",
       "  '2014-09-05 21:00:00',\n",
       "  '2014-09-05 22:00:00',\n",
       "  '2014-09-05 23:00:00',\n",
       "  '2014-09-06 00:00:00',\n",
       "  '2014-09-06 01:00:00',\n",
       "  '2014-09-06 02:00:00',\n",
       "  '2014-09-06 03:00:00',\n",
       "  '2014-09-06 04:00:00',\n",
       "  '2014-09-06 05:00:00',\n",
       "  '2014-09-06 06:00:00',\n",
       "  '2014-09-06 07:00:00',\n",
       "  '2014-09-06 08:00:00',\n",
       "  '2014-09-06 09:00:00',\n",
       "  '2014-09-06 10:00:00',\n",
       "  '2014-09-06 11:00:00',\n",
       "  '2014-09-06 12:00:00'])"
      ]
     },
     "execution_count": 23,
     "metadata": {},
     "output_type": "execute_result"
    }
   ],
   "source": [
    "inputs[0,168:,:], identifier[0,168:,:], [pd.Timestamp(i).strftime('%Y-%m-%d %X') for i in time[0,168:,0].detach().cpu().numpy().tolist()]"
   ]
  },
  {
   "cell_type": "code",
   "execution_count": 21,
   "metadata": {},
   "outputs": [
    {
     "data": {
      "text/plain": [
       "power_usage                           2.031676\n",
       "t                                      32078.0\n",
       "days_from_start                           1336\n",
       "categorical_id                             148\n",
       "date                       2014-08-29 14:00:00\n",
       "id                                      MT_149\n",
       "hour                                  0.361158\n",
       "day                                         29\n",
       "day_of_week                           0.504303\n",
       "month                                        8\n",
       "hours_from_start                      2.073782\n",
       "categorical_day_of_week                      4\n",
       "categorical_hour                            14\n",
       "Name: 3557325, dtype: object"
      ]
     },
     "execution_count": 21,
     "metadata": {},
     "output_type": "execute_result"
    }
   ],
   "source": [
    "test[(test['categorical_id']==148) & (test['date']=='2014-08-29 14:00:00')].iloc[0, :]"
   ]
  },
  {
   "cell_type": "code",
   "execution_count": null,
   "metadata": {},
   "outputs": [],
   "source": [
    "identifier[0,:,:]"
   ]
  },
  {
   "cell_type": "code",
   "execution_count": null,
   "metadata": {},
   "outputs": [],
   "source": [
    "outputs = []\n",
    "timestamps = []\n",
    "with torch.no_grad():\n",
    "    for batch in test_loader:\n",
    "        identifier: Tensor = batch.get('time')\n",
    "        output_ts: List = identifier[:,-24:,0].detach().cpu().numpy().flatten().tolist()\n",
    "        output_ts: List = [pd.Timestamp(i).strftime('%Y-%m-%d %X') for i in output_ts]\n",
    "        timestamps.extend(output_ts)\n",
    "#         print(len(output_ts))\n",
    "        output, encoder_ouput, decoder_output, attn, attn_weights, emb_enc, emb_dec = model(batch)\n",
    "        # extract 50th percentile\n",
    "        predictions: List = output[:,:,1].detach().cpu().numpy().flatten().tolist()\n",
    "        outputs.extend(predictions)"
   ]
  },
  {
   "cell_type": "code",
   "execution_count": null,
   "metadata": {},
   "outputs": [],
   "source": [
    "len(outputs), len(timestamps)"
   ]
  },
  {
   "cell_type": "code",
   "execution_count": null,
   "metadata": {},
   "outputs": [],
   "source": [
    "print(timestamps[:10])"
   ]
  },
  {
   "cell_type": "code",
   "execution_count": null,
   "metadata": {},
   "outputs": [],
   "source": [
    "# any duplicates in lists?\n"
   ]
  },
  {
   "cell_type": "code",
   "execution_count": null,
   "metadata": {},
   "outputs": [],
   "source": []
  },
  {
   "cell_type": "code",
   "execution_count": null,
   "metadata": {},
   "outputs": [],
   "source": [
    "# pd.Timestamp(1.4092164e+18)"
   ]
  },
  {
   "cell_type": "code",
   "execution_count": null,
   "metadata": {},
   "outputs": [],
   "source": []
  }
 ],
 "metadata": {
  "kernelspec": {
   "display_name": "tft_torch",
   "language": "python",
   "name": "tft_torch"
  },
  "language_info": {
   "codemirror_mode": {
    "name": "ipython",
    "version": 3
   },
   "file_extension": ".py",
   "mimetype": "text/x-python",
   "name": "python",
   "nbconvert_exporter": "python",
   "pygments_lexer": "ipython3",
   "version": "3.7.9"
  }
 },
 "nbformat": 4,
 "nbformat_minor": 4
}
