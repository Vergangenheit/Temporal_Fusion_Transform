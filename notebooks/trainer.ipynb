{
 "cells": [
  {
   "cell_type": "code",
   "execution_count": 1,
   "metadata": {},
   "outputs": [],
   "source": [
    "import sys\n",
    "sys.path.insert(0, '..')"
   ]
  },
  {
   "cell_type": "code",
   "execution_count": 2,
   "metadata": {},
   "outputs": [],
   "source": [
    "import pandas as pd\n",
    "from torch.utils.data import DataLoader,Dataset, Subset\n",
    "import numpy as np\n",
    "import tft_model\n",
    "from data_formatters import ts_dataset\n",
    "from data_formatters.ts_dataset import TSDataset\n",
    "import data_formatters.base\n",
    "import expt_settings.configs\n",
    "import importlib\n",
    "from data_formatters import utils\n",
    "import torch.optim as optim\n",
    "import torch\n",
    "from pandas import DataFrame\n",
    "from typing import List, Dict"
   ]
  },
  {
   "cell_type": "code",
   "execution_count": 3,
   "metadata": {},
   "outputs": [
    {
     "data": {
      "text/plain": [
       "'1.8.1+cu101'"
      ]
     },
     "execution_count": 3,
     "metadata": {},
     "output_type": "execute_result"
    }
   ],
   "source": [
    "torch.__version__"
   ]
  },
  {
   "cell_type": "code",
   "execution_count": 4,
   "metadata": {},
   "outputs": [],
   "source": [
    "pd.set_option('max_columns', 1000)"
   ]
  },
  {
   "cell_type": "code",
   "execution_count": 5,
   "metadata": {},
   "outputs": [
    {
     "data": {
      "text/plain": [
       "<module 'data_formatters.utils' from '..\\\\data_formatters\\\\utils.py'>"
      ]
     },
     "execution_count": 5,
     "metadata": {},
     "output_type": "execute_result"
    }
   ],
   "source": [
    "importlib.reload(tft_model)\n",
    "importlib.reload(utils)"
   ]
  },
  {
   "cell_type": "code",
   "execution_count": 6,
   "metadata": {},
   "outputs": [
    {
     "name": "stdout",
     "output_type": "stream",
     "text": [
      "*** Training from defined parameters for electricity ***\n",
      "Loading & splitting data...\n"
     ]
    },
    {
     "name": "stderr",
     "output_type": "stream",
     "text": [
      "C:\\Users\\Lorenzo\\PycharmProjects\\Temporal_Fusion_Transform\\venv\\lib\\site-packages\\numpy\\lib\\arraysetops.py:583: FutureWarning: elementwise comparison failed; returning scalar instead, but in the future will perform elementwise comparison\n",
      "  mask |= (ar1 == a)\n"
     ]
    },
    {
     "name": "stdout",
     "output_type": "stream",
     "text": [
      "Formatting train-valid-test splits.\n",
      "Setting scalers with training data...\n"
     ]
    }
   ],
   "source": [
    "ExperimentConfig = expt_settings.configs.ExperimentConfig\n",
    "\n",
    "config = ExperimentConfig('electricity', '../outputs')\n",
    "data_formatter = config.make_data_formatter()\n",
    "\n",
    "\n",
    "print(\"*** Training from defined parameters for {} ***\".format('electricity'))\n",
    "data_csv_path = '../data/hourly_electricity.csv'\n",
    "print(\"Loading & splitting data...\")\n",
    "raw_data: DataFrame = pd.read_csv(data_csv_path, index_col=0)\n",
    "train, valid, test = data_formatter.split_data(raw_data)\n",
    "train_samples, valid_samples = data_formatter.get_num_samples_for_calibration(\n",
    ")\n",
    "\n",
    "# Sets up default params\n",
    "fixed_params: Dict = data_formatter.get_experiment_params()\n",
    "params: Dict = data_formatter.get_default_model_params()"
   ]
  },
  {
   "cell_type": "code",
   "execution_count": 7,
   "metadata": {},
   "outputs": [
    {
     "data": {
      "text/plain": [
       "(450000, 50000)"
      ]
     },
     "execution_count": 7,
     "metadata": {},
     "output_type": "execute_result"
    }
   ],
   "source": [
    "train_samples, valid_samples"
   ]
  },
  {
   "cell_type": "code",
   "execution_count": 8,
   "metadata": {},
   "outputs": [
    {
     "data": {
      "text/plain": [
       "369"
      ]
     },
     "execution_count": 8,
     "metadata": {},
     "output_type": "execute_result"
    }
   ],
   "source": [
    "len(train.id.unique())"
   ]
  },
  {
   "cell_type": "code",
   "execution_count": 9,
   "metadata": {},
   "outputs": [
    {
     "data": {
      "text/html": [
       "<div>\n",
       "<style scoped>\n",
       "    .dataframe tbody tr th:only-of-type {\n",
       "        vertical-align: middle;\n",
       "    }\n",
       "\n",
       "    .dataframe tbody tr th {\n",
       "        vertical-align: top;\n",
       "    }\n",
       "\n",
       "    .dataframe thead th {\n",
       "        text-align: right;\n",
       "    }\n",
       "</style>\n",
       "<table border=\"1\" class=\"dataframe\">\n",
       "  <thead>\n",
       "    <tr style=\"text-align: right;\">\n",
       "      <th></th>\n",
       "      <th>power_usage</th>\n",
       "      <th>t</th>\n",
       "      <th>days_from_start</th>\n",
       "      <th>categorical_id</th>\n",
       "      <th>date</th>\n",
       "      <th>id</th>\n",
       "      <th>hour</th>\n",
       "      <th>day</th>\n",
       "      <th>day_of_week</th>\n",
       "      <th>month</th>\n",
       "      <th>hours_from_start</th>\n",
       "      <th>categorical_day_of_week</th>\n",
       "      <th>categorical_hour</th>\n",
       "    </tr>\n",
       "  </thead>\n",
       "  <tbody>\n",
       "    <tr>\n",
       "      <th>17544</th>\n",
       "      <td>-0.127174</td>\n",
       "      <td>26304.0</td>\n",
       "      <td>1096</td>\n",
       "      <td>0</td>\n",
       "      <td>2014-01-01 00:00:00</td>\n",
       "      <td>MT_001</td>\n",
       "      <td>-1.661325</td>\n",
       "      <td>1</td>\n",
       "      <td>-0.499719</td>\n",
       "      <td>1</td>\n",
       "      <td>-1.731721</td>\n",
       "      <td>2</td>\n",
       "      <td>0</td>\n",
       "    </tr>\n",
       "    <tr>\n",
       "      <th>17545</th>\n",
       "      <td>-0.050713</td>\n",
       "      <td>26305.0</td>\n",
       "      <td>1096</td>\n",
       "      <td>0</td>\n",
       "      <td>2014-01-01 01:00:00</td>\n",
       "      <td>MT_001</td>\n",
       "      <td>-1.516862</td>\n",
       "      <td>1</td>\n",
       "      <td>-0.499719</td>\n",
       "      <td>1</td>\n",
       "      <td>-1.731062</td>\n",
       "      <td>2</td>\n",
       "      <td>1</td>\n",
       "    </tr>\n",
       "    <tr>\n",
       "      <th>17546</th>\n",
       "      <td>-0.050713</td>\n",
       "      <td>26306.0</td>\n",
       "      <td>1096</td>\n",
       "      <td>0</td>\n",
       "      <td>2014-01-01 02:00:00</td>\n",
       "      <td>MT_001</td>\n",
       "      <td>-1.372399</td>\n",
       "      <td>1</td>\n",
       "      <td>-0.499719</td>\n",
       "      <td>1</td>\n",
       "      <td>-1.730403</td>\n",
       "      <td>2</td>\n",
       "      <td>2</td>\n",
       "    </tr>\n",
       "    <tr>\n",
       "      <th>17547</th>\n",
       "      <td>-0.050713</td>\n",
       "      <td>26307.0</td>\n",
       "      <td>1096</td>\n",
       "      <td>0</td>\n",
       "      <td>2014-01-01 03:00:00</td>\n",
       "      <td>MT_001</td>\n",
       "      <td>-1.227936</td>\n",
       "      <td>1</td>\n",
       "      <td>-0.499719</td>\n",
       "      <td>1</td>\n",
       "      <td>-1.729744</td>\n",
       "      <td>2</td>\n",
       "      <td>3</td>\n",
       "    </tr>\n",
       "    <tr>\n",
       "      <th>17548</th>\n",
       "      <td>-0.127174</td>\n",
       "      <td>26308.0</td>\n",
       "      <td>1096</td>\n",
       "      <td>0</td>\n",
       "      <td>2014-01-01 04:00:00</td>\n",
       "      <td>MT_001</td>\n",
       "      <td>-1.083473</td>\n",
       "      <td>1</td>\n",
       "      <td>-0.499719</td>\n",
       "      <td>1</td>\n",
       "      <td>-1.729085</td>\n",
       "      <td>2</td>\n",
       "      <td>4</td>\n",
       "    </tr>\n",
       "  </tbody>\n",
       "</table>\n",
       "</div>"
      ],
      "text/plain": [
       "       power_usage        t  days_from_start  categorical_id  \\\n",
       "17544    -0.127174  26304.0             1096               0   \n",
       "17545    -0.050713  26305.0             1096               0   \n",
       "17546    -0.050713  26306.0             1096               0   \n",
       "17547    -0.050713  26307.0             1096               0   \n",
       "17548    -0.127174  26308.0             1096               0   \n",
       "\n",
       "                      date      id      hour  day  day_of_week  month  \\\n",
       "17544  2014-01-01 00:00:00  MT_001 -1.661325    1    -0.499719      1   \n",
       "17545  2014-01-01 01:00:00  MT_001 -1.516862    1    -0.499719      1   \n",
       "17546  2014-01-01 02:00:00  MT_001 -1.372399    1    -0.499719      1   \n",
       "17547  2014-01-01 03:00:00  MT_001 -1.227936    1    -0.499719      1   \n",
       "17548  2014-01-01 04:00:00  MT_001 -1.083473    1    -0.499719      1   \n",
       "\n",
       "       hours_from_start  categorical_day_of_week  categorical_hour  \n",
       "17544         -1.731721                        2                 0  \n",
       "17545         -1.731062                        2                 1  \n",
       "17546         -1.730403                        2                 2  \n",
       "17547         -1.729744                        2                 3  \n",
       "17548         -1.729085                        2                 4  "
      ]
     },
     "execution_count": 9,
     "metadata": {},
     "output_type": "execute_result"
    }
   ],
   "source": [
    "train.head()"
   ]
  },
  {
   "cell_type": "code",
   "execution_count": 10,
   "metadata": {},
   "outputs": [
    {
     "data": {
      "text/plain": [
       "Index(['power_usage', 't', 'days_from_start', 'categorical_id', 'date', 'id',\n",
       "       'hour', 'day', 'day_of_week', 'month', 'hours_from_start',\n",
       "       'categorical_day_of_week', 'categorical_hour'],\n",
       "      dtype='object')"
      ]
     },
     "execution_count": 10,
     "metadata": {},
     "output_type": "execute_result"
    }
   ],
   "source": [
    "train.columns"
   ]
  },
  {
   "cell_type": "code",
   "execution_count": 11,
   "metadata": {},
   "outputs": [],
   "source": [
    "id_col = 'id'\n",
    "time_col='hours_from_start'\n",
    "input_cols =['power_usage', 'hour', 'day_of_week', 'hours_from_start', 'categorical_id']\n",
    "target_col = 'power_usage'\n",
    "static_cols = ['categorical_id']\n",
    "time_steps=192\n",
    "num_encoder_steps = 168\n",
    "output_size = 1\n",
    "max_samples = 10000\n",
    "input_size = 5\n",
    "\n",
    "# elect = ts_dataset.TSDataset(id_col, static_cols, time_col, input_cols,\n",
    "#                       target_col, time_steps, max_samples,\n",
    "#                      input_size, num_encoder_steps, 1, output_size, train)"
   ]
  },
  {
   "cell_type": "code",
   "execution_count": 12,
   "metadata": {},
   "outputs": [
    {
     "name": "stdout",
     "output_type": "stream",
     "text": [
      "Getting valid sampling locations.\n",
      "Extracting 10000 samples...\n",
      "10000 of 10000 samples done...\n",
      "Getting valid sampling locations.\n",
      "Extracting 1000 samples...\n"
     ]
    }
   ],
   "source": [
    "elect_train: TSDataset = ts_dataset.TSDataset(id_col, static_cols, time_col, input_cols,\n",
    "                      target_col, time_steps, max_samples,\n",
    "                     input_size, num_encoder_steps, 1, output_size, train)\n",
    "\n",
    "elect_valid: TSDataset = ts_dataset.TSDataset(id_col, static_cols, time_col, input_cols,\n",
    "                                                  target_col, time_steps, 1000,\n",
    "                                                  input_size, num_encoder_steps, 1, output_size, valid)"
   ]
  },
  {
   "cell_type": "code",
   "execution_count": 13,
   "metadata": {},
   "outputs": [],
   "source": [
    "batch_size=64\n",
    "train_loader = DataLoader(\n",
    "            elect_train,\n",
    "            batch_size=batch_size,\n",
    "            num_workers=2,\n",
    "            shuffle=False\n",
    "        )"
   ]
  },
  {
   "cell_type": "code",
   "execution_count": 14,
   "metadata": {},
   "outputs": [],
   "source": [
    "for batch in train_loader:\n",
    "    break"
   ]
  },
  {
   "cell_type": "code",
   "execution_count": 15,
   "metadata": {},
   "outputs": [],
   "source": [
    "static_cols = ['meter']\n",
    "categorical_cols = ['hour']\n",
    "real_cols = ['power_usage','hour', 'day']\n",
    "config = {}\n",
    "config['static_variables'] = len(static_cols)\n",
    "config['time_varying_categoical_variables'] = 1\n",
    "config['time_varying_real_variables_encoder'] = 4\n",
    "config['time_varying_real_variables_decoder'] = 3\n",
    "config['num_masked_series'] = 1\n",
    "config['static_embedding_vocab_sizes'] = [369]\n",
    "config['time_varying_embedding_vocab_sizes'] = [369]\n",
    "config['embedding_dim'] = 8\n",
    "config['lstm_hidden_dimension'] = 160\n",
    "config['lstm_layers'] = 1\n",
    "config['dropout'] = 0.05\n",
    "config['device'] = torch.device('cuda:0' if torch.cuda.is_available() else 'cpu')\n",
    "config['batch_size'] = 64\n",
    "config['encode_length'] = 168\n",
    "config['attn_heads'] = 4\n",
    "config['num_quantiles'] = 3\n",
    "config['vailid_quantiles'] = [0.1,0.5,0.9]\n",
    "config['seq_length'] = 192"
   ]
  },
  {
   "cell_type": "code",
   "execution_count": 16,
   "metadata": {},
   "outputs": [
    {
     "data": {
      "text/plain": [
       "{'static_variables': 1,\n",
       " 'time_varying_categoical_variables': 1,\n",
       " 'time_varying_real_variables_encoder': 4,\n",
       " 'time_varying_real_variables_decoder': 3,\n",
       " 'num_masked_series': 1,\n",
       " 'static_embedding_vocab_sizes': [369],\n",
       " 'time_varying_embedding_vocab_sizes': [369],\n",
       " 'embedding_dim': 8,\n",
       " 'lstm_hidden_dimension': 160,\n",
       " 'lstm_layers': 1,\n",
       " 'dropout': 0.05,\n",
       " 'device': device(type='cuda', index=0),\n",
       " 'batch_size': 64,\n",
       " 'encode_length': 168,\n",
       " 'attn_heads': 4,\n",
       " 'num_quantiles': 3,\n",
       " 'vailid_quantiles': [0.1, 0.5, 0.9],\n",
       " 'seq_length': 192}"
      ]
     },
     "execution_count": 16,
     "metadata": {},
     "output_type": "execute_result"
    }
   ],
   "source": [
    "config"
   ]
  },
  {
   "cell_type": "code",
   "execution_count": 17,
   "metadata": {},
   "outputs": [
    {
     "name": "stderr",
     "output_type": "stream",
     "text": [
      "C:\\Users\\Lorenzo\\PycharmProjects\\Temporal_Fusion_Transform\\venv\\lib\\site-packages\\torch\\nn\\modules\\rnn.py:63: UserWarning: dropout option adds dropout after all but last recurrent layer, so non-zero dropout expects num_layers greater than 1, but got dropout=0.05 and num_layers=1\n",
      "  \"num_layers={}\".format(dropout, num_layers))\n"
     ]
    }
   ],
   "source": [
    "model = tft_model.TFT(config)\n"
   ]
  },
  {
   "cell_type": "code",
   "execution_count": 18,
   "metadata": {},
   "outputs": [
    {
     "name": "stdout",
     "output_type": "stream",
     "text": [
      "Input size vector to lstm_encoder is  torch.Size([168, 64, 160])\n"
     ]
    },
    {
     "name": "stderr",
     "output_type": "stream",
     "text": [
      "..\\tft_model.py:190: UserWarning: Implicit dimension choice for softmax has been deprecated. Change the call to include dim=X as an argument.\n",
      "  sparse_weights = self.softmax(sparse_weights).unsqueeze(2)\n"
     ]
    }
   ],
   "source": [
    "output,encoder_output, decoder_output, \\\n",
    "attn,attn_output_weights, embeddings_encoder, embeddings_decoder = model.forward(batch)"
   ]
  },
  {
   "cell_type": "code",
   "execution_count": 19,
   "metadata": {},
   "outputs": [
    {
     "data": {
      "text/plain": [
       "torch.Size([64, 24, 3])"
      ]
     },
     "execution_count": 19,
     "metadata": {},
     "output_type": "execute_result"
    }
   ],
   "source": [
    "output.shape"
   ]
  },
  {
   "cell_type": "code",
   "execution_count": 20,
   "metadata": {},
   "outputs": [],
   "source": [
    "q_loss_func = tft_model.QuantileLoss([0.1,0.5,0.9])"
   ]
  },
  {
   "cell_type": "code",
   "execution_count": 21,
   "metadata": {},
   "outputs": [
    {
     "name": "stdout",
     "output_type": "stream",
     "text": [
      "Input size vector to lstm_encoder is  torch.Size([168, 64, 160])\n",
      "Input size vector to lstm_encoder is  torch.Size([168, 64, 160])\n",
      "Input size vector to lstm_encoder is  torch.Size([168, 64, 160])\n",
      "Input size vector to lstm_encoder is  torch.Size([168, 64, 160])\n",
      "Input size vector to lstm_encoder is  torch.Size([168, 64, 160])\n",
      "Input size vector to lstm_encoder is  torch.Size([168, 64, 160])\n",
      "Input size vector to lstm_encoder is  torch.Size([168, 64, 160])\n",
      "Input size vector to lstm_encoder is  torch.Size([168, 64, 160])\n",
      "Input size vector to lstm_encoder is  torch.Size([168, 64, 160])\n",
      "Input size vector to lstm_encoder is  torch.Size([168, 64, 160])\n",
      "Input size vector to lstm_encoder is  torch.Size([168, 64, 160])\n",
      "Input size vector to lstm_encoder is  torch.Size([168, 64, 160])\n",
      "Input size vector to lstm_encoder is  torch.Size([168, 64, 160])\n",
      "Input size vector to lstm_encoder is  torch.Size([168, 64, 160])\n",
      "Input size vector to lstm_encoder is  torch.Size([168, 64, 160])\n",
      "Input size vector to lstm_encoder is  torch.Size([168, 64, 160])\n",
      "Input size vector to lstm_encoder is  torch.Size([168, 64, 160])\n",
      "Input size vector to lstm_encoder is  torch.Size([168, 64, 160])\n",
      "Input size vector to lstm_encoder is  torch.Size([168, 64, 160])\n",
      "Input size vector to lstm_encoder is  torch.Size([168, 64, 160])\n",
      "Input size vector to lstm_encoder is  torch.Size([168, 64, 160])\n",
      "Input size vector to lstm_encoder is  torch.Size([168, 64, 160])\n",
      "Input size vector to lstm_encoder is  torch.Size([168, 64, 160])\n",
      "Input size vector to lstm_encoder is  torch.Size([168, 64, 160])\n",
      "Input size vector to lstm_encoder is  torch.Size([168, 64, 160])\n",
      "Input size vector to lstm_encoder is  torch.Size([168, 64, 160])\n",
      "Input size vector to lstm_encoder is  torch.Size([168, 64, 160])\n",
      "Input size vector to lstm_encoder is  torch.Size([168, 64, 160])\n",
      "Input size vector to lstm_encoder is  torch.Size([168, 64, 160])\n",
      "Input size vector to lstm_encoder is  torch.Size([168, 64, 160])\n",
      "Input size vector to lstm_encoder is  torch.Size([168, 64, 160])\n",
      "Input size vector to lstm_encoder is  torch.Size([168, 64, 160])\n",
      "Input size vector to lstm_encoder is  torch.Size([168, 64, 160])\n",
      "Input size vector to lstm_encoder is  torch.Size([168, 64, 160])\n",
      "Input size vector to lstm_encoder is  torch.Size([168, 64, 160])\n",
      "Input size vector to lstm_encoder is  torch.Size([168, 64, 160])\n",
      "Input size vector to lstm_encoder is  torch.Size([168, 64, 160])\n",
      "Input size vector to lstm_encoder is  torch.Size([168, 64, 160])\n",
      "Input size vector to lstm_encoder is  torch.Size([168, 64, 160])\n",
      "Input size vector to lstm_encoder is  torch.Size([168, 64, 160])\n",
      "Input size vector to lstm_encoder is  torch.Size([168, 64, 160])\n",
      "Input size vector to lstm_encoder is  torch.Size([168, 64, 160])\n",
      "Input size vector to lstm_encoder is  torch.Size([168, 64, 160])\n",
      "Input size vector to lstm_encoder is  torch.Size([168, 64, 160])\n",
      "Input size vector to lstm_encoder is  torch.Size([168, 64, 160])\n",
      "Input size vector to lstm_encoder is  torch.Size([168, 64, 160])\n",
      "Input size vector to lstm_encoder is  torch.Size([168, 64, 160])\n",
      "Input size vector to lstm_encoder is  torch.Size([168, 64, 160])\n",
      "Input size vector to lstm_encoder is  torch.Size([168, 64, 160])\n",
      "Input size vector to lstm_encoder is  torch.Size([168, 64, 160])\n",
      "Input size vector to lstm_encoder is  torch.Size([168, 64, 160])\n",
      "Input size vector to lstm_encoder is  torch.Size([168, 64, 160])\n",
      "Input size vector to lstm_encoder is  torch.Size([168, 64, 160])\n",
      "Input size vector to lstm_encoder is  torch.Size([168, 64, 160])\n",
      "Input size vector to lstm_encoder is  torch.Size([168, 64, 160])\n",
      "Input size vector to lstm_encoder is  torch.Size([168, 64, 160])\n",
      "Input size vector to lstm_encoder is  torch.Size([168, 64, 160])\n",
      "Input size vector to lstm_encoder is  torch.Size([168, 64, 160])\n",
      "Input size vector to lstm_encoder is  torch.Size([168, 64, 160])\n",
      "Input size vector to lstm_encoder is  torch.Size([168, 64, 160])\n",
      "Input size vector to lstm_encoder is  torch.Size([168, 64, 160])\n",
      "Input size vector to lstm_encoder is  torch.Size([168, 64, 160])\n",
      "Input size vector to lstm_encoder is  torch.Size([168, 64, 160])\n",
      "Input size vector to lstm_encoder is  torch.Size([168, 64, 160])\n",
      "Input size vector to lstm_encoder is  torch.Size([168, 64, 160])\n",
      "Input size vector to lstm_encoder is  torch.Size([168, 64, 160])\n",
      "Input size vector to lstm_encoder is  torch.Size([168, 64, 160])\n",
      "Input size vector to lstm_encoder is  torch.Size([168, 64, 160])\n",
      "Input size vector to lstm_encoder is  torch.Size([168, 64, 160])\n",
      "Input size vector to lstm_encoder is  torch.Size([168, 64, 160])\n",
      "Input size vector to lstm_encoder is  torch.Size([168, 64, 160])\n",
      "Input size vector to lstm_encoder is  torch.Size([168, 64, 160])\n",
      "Input size vector to lstm_encoder is  torch.Size([168, 64, 160])\n",
      "Input size vector to lstm_encoder is  torch.Size([168, 64, 160])\n",
      "Input size vector to lstm_encoder is  torch.Size([168, 64, 160])\n",
      "Input size vector to lstm_encoder is  torch.Size([168, 64, 160])\n",
      "Input size vector to lstm_encoder is  torch.Size([168, 64, 160])\n",
      "Input size vector to lstm_encoder is  torch.Size([168, 64, 160])\n",
      "Input size vector to lstm_encoder is  torch.Size([168, 64, 160])\n",
      "Input size vector to lstm_encoder is  torch.Size([168, 64, 160])\n",
      "Input size vector to lstm_encoder is  torch.Size([168, 64, 160])\n",
      "Input size vector to lstm_encoder is  torch.Size([168, 64, 160])\n",
      "Input size vector to lstm_encoder is  torch.Size([168, 64, 160])\n",
      "Input size vector to lstm_encoder is  torch.Size([168, 64, 160])\n",
      "Input size vector to lstm_encoder is  torch.Size([168, 64, 160])\n",
      "Input size vector to lstm_encoder is  torch.Size([168, 64, 160])\n",
      "Input size vector to lstm_encoder is  torch.Size([168, 64, 160])\n",
      "Input size vector to lstm_encoder is  torch.Size([168, 64, 160])\n",
      "Input size vector to lstm_encoder is  torch.Size([168, 64, 160])\n",
      "Input size vector to lstm_encoder is  torch.Size([168, 64, 160])\n",
      "Input size vector to lstm_encoder is  torch.Size([168, 64, 160])\n",
      "Input size vector to lstm_encoder is  torch.Size([168, 64, 160])\n",
      "Input size vector to lstm_encoder is  torch.Size([168, 64, 160])\n",
      "Input size vector to lstm_encoder is  torch.Size([168, 64, 160])\n",
      "Input size vector to lstm_encoder is  torch.Size([168, 64, 160])\n",
      "Input size vector to lstm_encoder is  torch.Size([168, 64, 160])\n",
      "Input size vector to lstm_encoder is  torch.Size([168, 64, 160])\n",
      "Input size vector to lstm_encoder is  torch.Size([168, 64, 160])\n",
      "Input size vector to lstm_encoder is  torch.Size([168, 64, 160])\n",
      "Input size vector to lstm_encoder is  torch.Size([168, 64, 160])\n",
      "Input size vector to lstm_encoder is  torch.Size([168, 64, 160])\n",
      "Input size vector to lstm_encoder is  torch.Size([168, 64, 160])\n",
      "Input size vector to lstm_encoder is  torch.Size([168, 64, 160])\n",
      "Input size vector to lstm_encoder is  torch.Size([168, 64, 160])\n",
      "Input size vector to lstm_encoder is  torch.Size([168, 64, 160])\n",
      "Input size vector to lstm_encoder is  torch.Size([168, 64, 160])\n",
      "Input size vector to lstm_encoder is  torch.Size([168, 64, 160])\n",
      "Input size vector to lstm_encoder is  torch.Size([168, 64, 160])\n",
      "Input size vector to lstm_encoder is  torch.Size([168, 64, 160])\n",
      "Input size vector to lstm_encoder is  torch.Size([168, 64, 160])\n",
      "Input size vector to lstm_encoder is  torch.Size([168, 64, 160])\n",
      "Input size vector to lstm_encoder is  torch.Size([168, 64, 160])\n",
      "Input size vector to lstm_encoder is  torch.Size([168, 64, 160])\n",
      "Input size vector to lstm_encoder is  torch.Size([168, 64, 160])\n",
      "Input size vector to lstm_encoder is  torch.Size([168, 64, 160])\n",
      "Input size vector to lstm_encoder is  torch.Size([168, 64, 160])\n",
      "Input size vector to lstm_encoder is  torch.Size([168, 64, 160])\n",
      "Input size vector to lstm_encoder is  torch.Size([168, 64, 160])\n",
      "Input size vector to lstm_encoder is  torch.Size([168, 64, 160])\n",
      "Input size vector to lstm_encoder is  torch.Size([168, 64, 160])\n",
      "Input size vector to lstm_encoder is  torch.Size([168, 64, 160])\n",
      "Input size vector to lstm_encoder is  torch.Size([168, 64, 160])\n",
      "Input size vector to lstm_encoder is  torch.Size([168, 64, 160])\n",
      "Input size vector to lstm_encoder is  torch.Size([168, 64, 160])\n",
      "Input size vector to lstm_encoder is  torch.Size([168, 64, 160])\n",
      "Input size vector to lstm_encoder is  torch.Size([168, 64, 160])\n",
      "Input size vector to lstm_encoder is  torch.Size([168, 64, 160])\n",
      "Input size vector to lstm_encoder is  torch.Size([168, 64, 160])\n"
     ]
    },
    {
     "name": "stdout",
     "output_type": "stream",
     "text": [
      "Input size vector to lstm_encoder is  torch.Size([168, 64, 160])\n",
      "Input size vector to lstm_encoder is  torch.Size([168, 64, 160])\n",
      "Input size vector to lstm_encoder is  torch.Size([168, 64, 160])\n",
      "Input size vector to lstm_encoder is  torch.Size([168, 64, 160])\n",
      "Input size vector to lstm_encoder is  torch.Size([168, 64, 160])\n",
      "Input size vector to lstm_encoder is  torch.Size([168, 64, 160])\n",
      "Input size vector to lstm_encoder is  torch.Size([168, 64, 160])\n",
      "Input size vector to lstm_encoder is  torch.Size([168, 64, 160])\n",
      "Input size vector to lstm_encoder is  torch.Size([168, 64, 160])\n",
      "Input size vector to lstm_encoder is  torch.Size([168, 64, 160])\n",
      "Input size vector to lstm_encoder is  torch.Size([168, 64, 160])\n",
      "Input size vector to lstm_encoder is  torch.Size([168, 64, 160])\n",
      "Input size vector to lstm_encoder is  torch.Size([168, 64, 160])\n",
      "Input size vector to lstm_encoder is  torch.Size([168, 64, 160])\n",
      "Input size vector to lstm_encoder is  torch.Size([168, 64, 160])\n",
      "Input size vector to lstm_encoder is  torch.Size([168, 64, 160])\n",
      "Input size vector to lstm_encoder is  torch.Size([168, 64, 160])\n",
      "Input size vector to lstm_encoder is  torch.Size([168, 64, 160])\n",
      "Input size vector to lstm_encoder is  torch.Size([168, 64, 160])\n",
      "Input size vector to lstm_encoder is  torch.Size([168, 64, 160])\n",
      "Input size vector to lstm_encoder is  torch.Size([168, 64, 160])\n",
      "Input size vector to lstm_encoder is  torch.Size([168, 64, 160])\n",
      "Input size vector to lstm_encoder is  torch.Size([168, 64, 160])\n",
      "Input size vector to lstm_encoder is  torch.Size([168, 64, 160])\n",
      "Input size vector to lstm_encoder is  torch.Size([168, 64, 160])\n",
      "Input size vector to lstm_encoder is  torch.Size([168, 64, 160])\n",
      "Input size vector to lstm_encoder is  torch.Size([168, 64, 160])\n",
      "Input size vector to lstm_encoder is  torch.Size([168, 64, 160])\n",
      "Input size vector to lstm_encoder is  torch.Size([168, 16, 160])\n"
     ]
    },
    {
     "ename": "RuntimeError",
     "evalue": "Expected hidden[0] size (1, 16, 160), got [1, 64, 160]",
     "output_type": "error",
     "traceback": [
      "\u001b[1;31m---------------------------------------------------------------------------\u001b[0m",
      "\u001b[1;31mRuntimeError\u001b[0m                              Traceback (most recent call last)",
      "\u001b[1;32m<ipython-input-21-64c5b4c2fefe>\u001b[0m in \u001b[0;36m<module>\u001b[1;34m\u001b[0m\n\u001b[0;32m      7\u001b[0m     \u001b[0mj\u001b[0m\u001b[1;33m=\u001b[0m\u001b[1;36m0\u001b[0m\u001b[1;33m\u001b[0m\u001b[1;33m\u001b[0m\u001b[0m\n\u001b[0;32m      8\u001b[0m     \u001b[1;32mfor\u001b[0m \u001b[0mbatch\u001b[0m \u001b[1;32min\u001b[0m \u001b[0mtrain_loader\u001b[0m\u001b[1;33m:\u001b[0m\u001b[1;33m\u001b[0m\u001b[1;33m\u001b[0m\u001b[0m\n\u001b[1;32m----> 9\u001b[1;33m         \u001b[0moutput\u001b[0m\u001b[1;33m,\u001b[0m \u001b[0mencoder_ouput\u001b[0m\u001b[1;33m,\u001b[0m \u001b[0mdecoder_output\u001b[0m\u001b[1;33m,\u001b[0m \u001b[0mattn\u001b[0m\u001b[1;33m,\u001b[0m \u001b[0mattn_weights\u001b[0m\u001b[1;33m,\u001b[0m \u001b[0memb_enc\u001b[0m\u001b[1;33m,\u001b[0m \u001b[0memb_dec\u001b[0m \u001b[1;33m=\u001b[0m \u001b[0mmodel\u001b[0m\u001b[1;33m(\u001b[0m\u001b[0mbatch\u001b[0m\u001b[1;33m)\u001b[0m\u001b[1;33m\u001b[0m\u001b[1;33m\u001b[0m\u001b[0m\n\u001b[0m\u001b[0;32m     10\u001b[0m         \u001b[0mtargets\u001b[0m \u001b[1;33m=\u001b[0m \u001b[0mbatch\u001b[0m\u001b[1;33m[\u001b[0m\u001b[1;34m'outputs'\u001b[0m\u001b[1;33m]\u001b[0m\u001b[1;33m\u001b[0m\u001b[1;33m\u001b[0m\u001b[0m\n\u001b[0;32m     11\u001b[0m         \u001b[0mtargets\u001b[0m \u001b[1;33m=\u001b[0m \u001b[0mtargets\u001b[0m\u001b[1;33m.\u001b[0m\u001b[0mto\u001b[0m\u001b[1;33m(\u001b[0m\u001b[0mtorch\u001b[0m\u001b[1;33m.\u001b[0m\u001b[0mdevice\u001b[0m\u001b[1;33m(\u001b[0m\u001b[1;34m'cuda:0'\u001b[0m \u001b[1;32mif\u001b[0m \u001b[0mtorch\u001b[0m\u001b[1;33m.\u001b[0m\u001b[0mcuda\u001b[0m\u001b[1;33m.\u001b[0m\u001b[0mis_available\u001b[0m\u001b[1;33m(\u001b[0m\u001b[1;33m)\u001b[0m \u001b[1;32melse\u001b[0m \u001b[1;34m'cpu'\u001b[0m\u001b[1;33m)\u001b[0m\u001b[1;33m)\u001b[0m\u001b[1;33m\u001b[0m\u001b[1;33m\u001b[0m\u001b[0m\n",
      "\u001b[1;32m~\\PycharmProjects\\Temporal_Fusion_Transform\\venv\\lib\\site-packages\\torch\\nn\\modules\\module.py\u001b[0m in \u001b[0;36m_call_impl\u001b[1;34m(self, *input, **kwargs)\u001b[0m\n\u001b[0;32m    887\u001b[0m             \u001b[0mresult\u001b[0m \u001b[1;33m=\u001b[0m \u001b[0mself\u001b[0m\u001b[1;33m.\u001b[0m\u001b[0m_slow_forward\u001b[0m\u001b[1;33m(\u001b[0m\u001b[1;33m*\u001b[0m\u001b[0minput\u001b[0m\u001b[1;33m,\u001b[0m \u001b[1;33m**\u001b[0m\u001b[0mkwargs\u001b[0m\u001b[1;33m)\u001b[0m\u001b[1;33m\u001b[0m\u001b[1;33m\u001b[0m\u001b[0m\n\u001b[0;32m    888\u001b[0m         \u001b[1;32melse\u001b[0m\u001b[1;33m:\u001b[0m\u001b[1;33m\u001b[0m\u001b[1;33m\u001b[0m\u001b[0m\n\u001b[1;32m--> 889\u001b[1;33m             \u001b[0mresult\u001b[0m \u001b[1;33m=\u001b[0m \u001b[0mself\u001b[0m\u001b[1;33m.\u001b[0m\u001b[0mforward\u001b[0m\u001b[1;33m(\u001b[0m\u001b[1;33m*\u001b[0m\u001b[0minput\u001b[0m\u001b[1;33m,\u001b[0m \u001b[1;33m**\u001b[0m\u001b[0mkwargs\u001b[0m\u001b[1;33m)\u001b[0m\u001b[1;33m\u001b[0m\u001b[1;33m\u001b[0m\u001b[0m\n\u001b[0m\u001b[0;32m    890\u001b[0m         for hook in itertools.chain(\n\u001b[0;32m    891\u001b[0m                 \u001b[0m_global_forward_hooks\u001b[0m\u001b[1;33m.\u001b[0m\u001b[0mvalues\u001b[0m\u001b[1;33m(\u001b[0m\u001b[1;33m)\u001b[0m\u001b[1;33m,\u001b[0m\u001b[1;33m\u001b[0m\u001b[1;33m\u001b[0m\u001b[0m\n",
      "\u001b[1;32m~\\PycharmProjects\\Temporal_Fusion_Transform\\tft_model.py\u001b[0m in \u001b[0;36mforward\u001b[1;34m(self, x)\u001b[0m\n\u001b[0;32m    393\u001b[0m         \u001b[1;31m##LSTM\u001b[0m\u001b[1;33m\u001b[0m\u001b[1;33m\u001b[0m\u001b[1;33m\u001b[0m\u001b[0m\n\u001b[0;32m    394\u001b[0m         \u001b[0mlstm_input\u001b[0m\u001b[1;33m:\u001b[0m \u001b[0mTensor\u001b[0m \u001b[1;33m=\u001b[0m \u001b[0mtorch\u001b[0m\u001b[1;33m.\u001b[0m\u001b[0mcat\u001b[0m\u001b[1;33m(\u001b[0m\u001b[1;33m[\u001b[0m\u001b[0membeddings_encoder\u001b[0m\u001b[1;33m,\u001b[0m \u001b[0membeddings_decoder\u001b[0m\u001b[1;33m]\u001b[0m\u001b[1;33m,\u001b[0m \u001b[0mdim\u001b[0m\u001b[1;33m=\u001b[0m\u001b[1;36m0\u001b[0m\u001b[1;33m)\u001b[0m  \u001b[1;31m# [192, 64, 160]\u001b[0m\u001b[1;33m\u001b[0m\u001b[1;33m\u001b[0m\u001b[0m\n\u001b[1;32m--> 395\u001b[1;33m         \u001b[0mencoder_output\u001b[0m\u001b[1;33m,\u001b[0m \u001b[0mhidden\u001b[0m \u001b[1;33m=\u001b[0m \u001b[0mself\u001b[0m\u001b[1;33m.\u001b[0m\u001b[0mencode\u001b[0m\u001b[1;33m(\u001b[0m\u001b[0membeddings_encoder\u001b[0m\u001b[1;33m)\u001b[0m  \u001b[1;31m# [168, 64, 160] , [1, 64, 160]\u001b[0m\u001b[1;33m\u001b[0m\u001b[1;33m\u001b[0m\u001b[0m\n\u001b[0m\u001b[0;32m    396\u001b[0m         \u001b[0mdecoder_output\u001b[0m\u001b[1;33m,\u001b[0m \u001b[0m_\u001b[0m \u001b[1;33m=\u001b[0m \u001b[0mself\u001b[0m\u001b[1;33m.\u001b[0m\u001b[0mdecode\u001b[0m\u001b[1;33m(\u001b[0m\u001b[0membeddings_decoder\u001b[0m\u001b[1;33m,\u001b[0m \u001b[0mhidden\u001b[0m\u001b[1;33m)\u001b[0m  \u001b[1;31m# [24, 64, 160] , [1, 64, 160]\u001b[0m\u001b[1;33m\u001b[0m\u001b[1;33m\u001b[0m\u001b[0m\n\u001b[0;32m    397\u001b[0m         \u001b[0mlstm_output\u001b[0m\u001b[1;33m:\u001b[0m \u001b[0mTensor\u001b[0m \u001b[1;33m=\u001b[0m \u001b[0mtorch\u001b[0m\u001b[1;33m.\u001b[0m\u001b[0mcat\u001b[0m\u001b[1;33m(\u001b[0m\u001b[1;33m[\u001b[0m\u001b[0mencoder_output\u001b[0m\u001b[1;33m,\u001b[0m \u001b[0mdecoder_output\u001b[0m\u001b[1;33m]\u001b[0m\u001b[1;33m,\u001b[0m \u001b[0mdim\u001b[0m\u001b[1;33m=\u001b[0m\u001b[1;36m0\u001b[0m\u001b[1;33m)\u001b[0m  \u001b[1;31m# [192, 64, 160]\u001b[0m\u001b[1;33m\u001b[0m\u001b[1;33m\u001b[0m\u001b[0m\n",
      "\u001b[1;32m~\\PycharmProjects\\Temporal_Fusion_Transform\\tft_model.py\u001b[0m in \u001b[0;36mencode\u001b[1;34m(self, x, hidden)\u001b[0m\n\u001b[0;32m    342\u001b[0m                 \u001b[0mprint\u001b[0m\u001b[1;33m(\u001b[0m\u001b[1;34m\"Hidden tensor is not on cuda\"\u001b[0m\u001b[1;33m)\u001b[0m\u001b[1;33m\u001b[0m\u001b[1;33m\u001b[0m\u001b[0m\n\u001b[0;32m    343\u001b[0m         \u001b[0mprint\u001b[0m\u001b[1;33m(\u001b[0m\u001b[1;34m\"Input size vector to lstm_encoder is \"\u001b[0m\u001b[1;33m,\u001b[0m \u001b[0mx\u001b[0m\u001b[1;33m.\u001b[0m\u001b[0msize\u001b[0m\u001b[1;33m(\u001b[0m\u001b[1;33m)\u001b[0m\u001b[1;33m)\u001b[0m\u001b[1;33m\u001b[0m\u001b[1;33m\u001b[0m\u001b[0m\n\u001b[1;32m--> 344\u001b[1;33m         \u001b[0moutput\u001b[0m\u001b[1;33m,\u001b[0m \u001b[1;33m(\u001b[0m\u001b[0mhidden\u001b[0m\u001b[1;33m,\u001b[0m \u001b[0mcell\u001b[0m\u001b[1;33m)\u001b[0m \u001b[1;33m=\u001b[0m \u001b[0mself\u001b[0m\u001b[1;33m.\u001b[0m\u001b[0mlstm_encoder\u001b[0m\u001b[1;33m(\u001b[0m\u001b[0mx\u001b[0m\u001b[1;33m,\u001b[0m \u001b[1;33m(\u001b[0m\u001b[0mhidden\u001b[0m\u001b[1;33m,\u001b[0m \u001b[0mhidden\u001b[0m\u001b[1;33m)\u001b[0m\u001b[1;33m)\u001b[0m\u001b[1;33m\u001b[0m\u001b[1;33m\u001b[0m\u001b[0m\n\u001b[0m\u001b[0;32m    345\u001b[0m \u001b[1;33m\u001b[0m\u001b[0m\n\u001b[0;32m    346\u001b[0m         \u001b[1;32mreturn\u001b[0m \u001b[0moutput\u001b[0m\u001b[1;33m,\u001b[0m \u001b[0mhidden\u001b[0m\u001b[1;33m\u001b[0m\u001b[1;33m\u001b[0m\u001b[0m\n",
      "\u001b[1;32m~\\PycharmProjects\\Temporal_Fusion_Transform\\venv\\lib\\site-packages\\torch\\nn\\modules\\module.py\u001b[0m in \u001b[0;36m_call_impl\u001b[1;34m(self, *input, **kwargs)\u001b[0m\n\u001b[0;32m    887\u001b[0m             \u001b[0mresult\u001b[0m \u001b[1;33m=\u001b[0m \u001b[0mself\u001b[0m\u001b[1;33m.\u001b[0m\u001b[0m_slow_forward\u001b[0m\u001b[1;33m(\u001b[0m\u001b[1;33m*\u001b[0m\u001b[0minput\u001b[0m\u001b[1;33m,\u001b[0m \u001b[1;33m**\u001b[0m\u001b[0mkwargs\u001b[0m\u001b[1;33m)\u001b[0m\u001b[1;33m\u001b[0m\u001b[1;33m\u001b[0m\u001b[0m\n\u001b[0;32m    888\u001b[0m         \u001b[1;32melse\u001b[0m\u001b[1;33m:\u001b[0m\u001b[1;33m\u001b[0m\u001b[1;33m\u001b[0m\u001b[0m\n\u001b[1;32m--> 889\u001b[1;33m             \u001b[0mresult\u001b[0m \u001b[1;33m=\u001b[0m \u001b[0mself\u001b[0m\u001b[1;33m.\u001b[0m\u001b[0mforward\u001b[0m\u001b[1;33m(\u001b[0m\u001b[1;33m*\u001b[0m\u001b[0minput\u001b[0m\u001b[1;33m,\u001b[0m \u001b[1;33m**\u001b[0m\u001b[0mkwargs\u001b[0m\u001b[1;33m)\u001b[0m\u001b[1;33m\u001b[0m\u001b[1;33m\u001b[0m\u001b[0m\n\u001b[0m\u001b[0;32m    890\u001b[0m         for hook in itertools.chain(\n\u001b[0;32m    891\u001b[0m                 \u001b[0m_global_forward_hooks\u001b[0m\u001b[1;33m.\u001b[0m\u001b[0mvalues\u001b[0m\u001b[1;33m(\u001b[0m\u001b[1;33m)\u001b[0m\u001b[1;33m,\u001b[0m\u001b[1;33m\u001b[0m\u001b[1;33m\u001b[0m\u001b[0m\n",
      "\u001b[1;32m~\\PycharmProjects\\Temporal_Fusion_Transform\\venv\\lib\\site-packages\\torch\\nn\\modules\\rnn.py\u001b[0m in \u001b[0;36mforward\u001b[1;34m(self, input, hx)\u001b[0m\n\u001b[0;32m    657\u001b[0m             \u001b[0mhx\u001b[0m \u001b[1;33m=\u001b[0m \u001b[0mself\u001b[0m\u001b[1;33m.\u001b[0m\u001b[0mpermute_hidden\u001b[0m\u001b[1;33m(\u001b[0m\u001b[0mhx\u001b[0m\u001b[1;33m,\u001b[0m \u001b[0msorted_indices\u001b[0m\u001b[1;33m)\u001b[0m\u001b[1;33m\u001b[0m\u001b[1;33m\u001b[0m\u001b[0m\n\u001b[0;32m    658\u001b[0m \u001b[1;33m\u001b[0m\u001b[0m\n\u001b[1;32m--> 659\u001b[1;33m         \u001b[0mself\u001b[0m\u001b[1;33m.\u001b[0m\u001b[0mcheck_forward_args\u001b[0m\u001b[1;33m(\u001b[0m\u001b[0minput\u001b[0m\u001b[1;33m,\u001b[0m \u001b[0mhx\u001b[0m\u001b[1;33m,\u001b[0m \u001b[0mbatch_sizes\u001b[0m\u001b[1;33m)\u001b[0m\u001b[1;33m\u001b[0m\u001b[1;33m\u001b[0m\u001b[0m\n\u001b[0m\u001b[0;32m    660\u001b[0m         \u001b[1;32mif\u001b[0m \u001b[0mbatch_sizes\u001b[0m \u001b[1;32mis\u001b[0m \u001b[1;32mNone\u001b[0m\u001b[1;33m:\u001b[0m\u001b[1;33m\u001b[0m\u001b[1;33m\u001b[0m\u001b[0m\n\u001b[0;32m    661\u001b[0m             result = _VF.lstm(input, hx, self._flat_weights, self.bias, self.num_layers,\n",
      "\u001b[1;32m~\\PycharmProjects\\Temporal_Fusion_Transform\\venv\\lib\\site-packages\\torch\\nn\\modules\\rnn.py\u001b[0m in \u001b[0;36mcheck_forward_args\u001b[1;34m(self, input, hidden, batch_sizes)\u001b[0m\n\u001b[0;32m    605\u001b[0m         \u001b[0mself\u001b[0m\u001b[1;33m.\u001b[0m\u001b[0mcheck_input\u001b[0m\u001b[1;33m(\u001b[0m\u001b[0minput\u001b[0m\u001b[1;33m,\u001b[0m \u001b[0mbatch_sizes\u001b[0m\u001b[1;33m)\u001b[0m\u001b[1;33m\u001b[0m\u001b[1;33m\u001b[0m\u001b[0m\n\u001b[0;32m    606\u001b[0m         self.check_hidden_size(hidden[0], self.get_expected_hidden_size(input, batch_sizes),\n\u001b[1;32m--> 607\u001b[1;33m                                'Expected hidden[0] size {}, got {}')\n\u001b[0m\u001b[0;32m    608\u001b[0m         self.check_hidden_size(hidden[1], self.get_expected_cell_size(input, batch_sizes),\n\u001b[0;32m    609\u001b[0m                                'Expected hidden[1] size {}, got {}')\n",
      "\u001b[1;32m~\\PycharmProjects\\Temporal_Fusion_Transform\\venv\\lib\\site-packages\\torch\\nn\\modules\\rnn.py\u001b[0m in \u001b[0;36mcheck_hidden_size\u001b[1;34m(self, hx, expected_hidden_size, msg)\u001b[0m\n\u001b[0;32m    221\u001b[0m                           msg: str = 'Expected hidden size {}, got {}') -> None:\n\u001b[0;32m    222\u001b[0m         \u001b[1;32mif\u001b[0m \u001b[0mhx\u001b[0m\u001b[1;33m.\u001b[0m\u001b[0msize\u001b[0m\u001b[1;33m(\u001b[0m\u001b[1;33m)\u001b[0m \u001b[1;33m!=\u001b[0m \u001b[0mexpected_hidden_size\u001b[0m\u001b[1;33m:\u001b[0m\u001b[1;33m\u001b[0m\u001b[1;33m\u001b[0m\u001b[0m\n\u001b[1;32m--> 223\u001b[1;33m             \u001b[1;32mraise\u001b[0m \u001b[0mRuntimeError\u001b[0m\u001b[1;33m(\u001b[0m\u001b[0mmsg\u001b[0m\u001b[1;33m.\u001b[0m\u001b[0mformat\u001b[0m\u001b[1;33m(\u001b[0m\u001b[0mexpected_hidden_size\u001b[0m\u001b[1;33m,\u001b[0m \u001b[0mlist\u001b[0m\u001b[1;33m(\u001b[0m\u001b[0mhx\u001b[0m\u001b[1;33m.\u001b[0m\u001b[0msize\u001b[0m\u001b[1;33m(\u001b[0m\u001b[1;33m)\u001b[0m\u001b[1;33m)\u001b[0m\u001b[1;33m)\u001b[0m\u001b[1;33m)\u001b[0m\u001b[1;33m\u001b[0m\u001b[1;33m\u001b[0m\u001b[0m\n\u001b[0m\u001b[0;32m    224\u001b[0m \u001b[1;33m\u001b[0m\u001b[0m\n\u001b[0;32m    225\u001b[0m     \u001b[1;32mdef\u001b[0m \u001b[0mcheck_forward_args\u001b[0m\u001b[1;33m(\u001b[0m\u001b[0mself\u001b[0m\u001b[1;33m,\u001b[0m \u001b[0minput\u001b[0m\u001b[1;33m:\u001b[0m \u001b[0mTensor\u001b[0m\u001b[1;33m,\u001b[0m \u001b[0mhidden\u001b[0m\u001b[1;33m:\u001b[0m \u001b[0mTensor\u001b[0m\u001b[1;33m,\u001b[0m \u001b[0mbatch_sizes\u001b[0m\u001b[1;33m:\u001b[0m \u001b[0mOptional\u001b[0m\u001b[1;33m[\u001b[0m\u001b[0mTensor\u001b[0m\u001b[1;33m]\u001b[0m\u001b[1;33m)\u001b[0m\u001b[1;33m:\u001b[0m\u001b[1;33m\u001b[0m\u001b[1;33m\u001b[0m\u001b[0m\n",
      "\u001b[1;31mRuntimeError\u001b[0m: Expected hidden[0] size (1, 16, 160), got [1, 64, 160]"
     ]
    }
   ],
   "source": [
    "optimizer = optim.Adam(model.parameters(), lr=0.0001)\n",
    "model.train()\n",
    "epochs=100\n",
    "losses = []\n",
    "for i in range(epochs):\n",
    "    epoch_loss = [] \n",
    "    j=0\n",
    "    for batch in train_loader:\n",
    "        output, encoder_ouput, decoder_output, attn, attn_weights, emb_enc, emb_dec = model(batch)\n",
    "        targets = batch['outputs']\n",
    "        targets = targets.to(torch.device('cuda:0' if torch.cuda.is_available() else 'cpu'))\n",
    "        loss = q_loss_func(output[:,:,:].view(-1,3), targets[:,:,0].flatten().float())\n",
    "        loss.backward()\n",
    "        optimizer.step()\n",
    "        epoch_loss.append(loss.item())\n",
    "#         j+=1\n",
    "#         if j>5:\n",
    "#             break\n",
    "    losses.append(np.mean(epoch_loss))\n",
    "    print(np.mean(epoch_loss))\n",
    "    "
   ]
  },
  {
   "cell_type": "code",
   "execution_count": null,
   "metadata": {},
   "outputs": [],
   "source": [
    "output, encoder_ouput, decoder_output, attn, attn_weights, emb_enc, emb_dec = model(batch)"
   ]
  },
  {
   "cell_type": "code",
   "execution_count": null,
   "metadata": {},
   "outputs": [],
   "source": [
    "output.shape"
   ]
  },
  {
   "cell_type": "code",
   "execution_count": null,
   "metadata": {},
   "outputs": [],
   "source": [
    "import matplotlib.pyplot as plt\n",
    "import numpy as np\n",
    "\n",
    "ind = np.random.choice(64)\n",
    "print(ind)\n",
    "plt.plot(output[ind,:,0].detach().cpu().numpy(), label='pred_1')\n",
    "plt.plot(output[ind,:,1].detach().cpu().numpy(), label='pred_5')\n",
    "plt.plot(output[ind,:,2].detach().cpu().numpy(), label='pred_9')\n",
    "\n",
    "plt.plot(batch['outputs'][ind,:,0], label='true')\n",
    "plt.legend()"
   ]
  },
  {
   "cell_type": "code",
   "execution_count": null,
   "metadata": {},
   "outputs": [],
   "source": [
    "attn_weights.shape"
   ]
  },
  {
   "cell_type": "code",
   "execution_count": null,
   "metadata": {},
   "outputs": [],
   "source": [
    "plt.matshow(attn_weights.detach().cpu().numpy()[0,:,:])"
   ]
  },
  {
   "cell_type": "code",
   "execution_count": null,
   "metadata": {},
   "outputs": [],
   "source": [
    "plt.imshow(attn_weights.detach().cpu().numpy()[0,:,:])"
   ]
  },
  {
   "cell_type": "code",
   "execution_count": null,
   "metadata": {},
   "outputs": [],
   "source": []
  }
 ],
 "metadata": {
  "kernelspec": {
   "display_name": "tft_torch",
   "language": "python",
   "name": "tft_torch"
  },
  "language_info": {
   "codemirror_mode": {
    "name": "ipython",
    "version": 3
   },
   "file_extension": ".py",
   "mimetype": "text/x-python",
   "name": "python",
   "nbconvert_exporter": "python",
   "pygments_lexer": "ipython3",
   "version": "3.7.9"
  }
 },
 "nbformat": 4,
 "nbformat_minor": 4
}
